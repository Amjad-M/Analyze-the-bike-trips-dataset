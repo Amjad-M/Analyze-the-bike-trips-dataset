{
  "cells": [
    {
      "cell_type": "markdown",
      "source": [
        "# Analyze the bike trips dataset 🚴\n",
        "\n",
        "\n",
        "\n",
        "\n",
        "---"
      ],
      "metadata": {
        "id": "DdjcHDvgX8et"
      }
    },
    {
      "cell_type": "markdown",
      "source": [
        "\n",
        "The *Bikes trips* dataset comes from a bike station service. It is a collection of information on around 183k trips.  Each file has 16 columns  includes information on aspects such as start time and trip end_time, user type, member_birth year, and member gender.\n",
        "\n",
        "\n",
        "> Analysing this data helps in knowing more about the customers and find out about the relationship between the variables. Which lead to offer proper services to the customers.\n",
        "\n",
        "---\n",
        "## *Outline of analysis*\n",
        ">* Explore the data and ask research questions that could be answered using the data.\n",
        ">* Performed necessary assesing and cleaning steps to deal with data problems and prepare the dataset for analysis using **pandas**.\n",
        ">* Created visualizations using ***matplotlib and seaborn*** and made inferences to answer research questions."
      ],
      "metadata": {
        "id": "nkKuiSFoX_jo"
      }
    },
    {
      "cell_type": "markdown",
      "source": [
        "### We will analyze the bikes trips data  in order to answer these questions:\n"
      ],
      "metadata": {
        "id": "DrKiV5eOYIbS"
      }
    },
    {
      "cell_type": "markdown",
      "source": [
        "* What are the most common days to use a bike?\n",
        "* What are the most common hours to use a bike?\n",
        "* What are the common ages and genders of bike users?\n",
        "* What are the common genders of subscribers users?\n",
        "* What are the subscribers' Most popular Stations?\n",
        "\n",
        "\n",
        "\n",
        "\n"
      ],
      "metadata": {
        "id": "7vXbbduYh9Qr"
      }
    },
    {
      "cell_type": "markdown",
      "source": [
        "### Import Libraries"
      ],
      "metadata": {
        "id": "qjvfQ3BKPx-U"
      }
    },
    {
      "cell_type": "code",
      "execution_count": 201,
      "metadata": {
        "id": "zZieucTS9bC9"
      },
      "outputs": [],
      "source": [
        "# import the needed libraries\n",
        "import pandas as pd\n",
        "import matplotlib.pyplot as plt\n",
        "import seaborn as sns"
      ]
    },
    {
      "cell_type": "markdown",
      "metadata": {
        "id": "wD3Bx4Iu9bC_"
      },
      "source": [
        "### STEP 1:  Load Data"
      ]
    },
    {
      "cell_type": "code",
      "execution_count": 202,
      "metadata": {
        "colab": {
          "base_uri": "https://localhost:8080/",
          "height": 635
        },
        "id": "aLTwe1QO9bDA",
        "outputId": "b1ae9a69-a009-4b19-ddf6-ce836c3e2277"
      },
      "outputs": [
        {
          "output_type": "execute_result",
          "data": {
            "text/plain": [
              "   duration_sec                start_time                  end_time  \\\n",
              "0         52185  2019-02-28 17:32:10.1450  2019-03-01 08:01:55.9750   \n",
              "1         42521  2019-02-28 18:53:21.7890  2019-03-01 06:42:03.0560   \n",
              "2         61854  2019-02-28 12:13:13.2180  2019-03-01 05:24:08.1460   \n",
              "3         36490  2019-02-28 17:54:26.0100  2019-03-01 04:02:36.8420   \n",
              "4          1585  2019-02-28 23:54:18.5490  2019-03-01 00:20:44.0740   \n",
              "5          1793  2019-02-28 23:49:58.6320  2019-03-01 00:19:51.7600   \n",
              "6          1147  2019-02-28 23:55:35.1040  2019-03-01 00:14:42.5880   \n",
              "7          1615  2019-02-28 23:41:06.7660  2019-03-01 00:08:02.7560   \n",
              "8          1570  2019-02-28 23:41:48.7900  2019-03-01 00:07:59.7150   \n",
              "9          1049  2019-02-28 23:49:47.6990  2019-03-01 00:07:17.0250   \n",
              "\n",
              "   start_station_id                                start_station_name  \\\n",
              "0              21.0  Montgomery St BART Station (Market St at 2nd St)   \n",
              "1              23.0                     The Embarcadero at Steuart St   \n",
              "2              86.0                           Market St at Dolores St   \n",
              "3             375.0                           Grove St at Masonic Ave   \n",
              "4               7.0                               Frank H Ogawa Plaza   \n",
              "5              93.0                      4th St at Mission Bay Blvd S   \n",
              "6             300.0                              Palm St at Willow St   \n",
              "7              10.0                        Washington St at Kearny St   \n",
              "8              10.0                        Washington St at Kearny St   \n",
              "9              19.0                              Post St at Kearny St   \n",
              "\n",
              "   start_station_latitude  start_station_longitude  end_station_id  \\\n",
              "0               37.789625              -122.400811            13.0   \n",
              "1               37.791464              -122.391034            81.0   \n",
              "2               37.769305              -122.426826             3.0   \n",
              "3               37.774836              -122.446546            70.0   \n",
              "4               37.804562              -122.271738           222.0   \n",
              "5               37.770407              -122.391198           323.0   \n",
              "6               37.317298              -121.884995           312.0   \n",
              "7               37.795393              -122.404770           127.0   \n",
              "8               37.795393              -122.404770           127.0   \n",
              "9               37.788975              -122.403452           121.0   \n",
              "\n",
              "                               end_station_name  end_station_latitude  \\\n",
              "0                Commercial St at Montgomery St             37.794231   \n",
              "1                            Berry St at 4th St             37.775880   \n",
              "2  Powell St BART Station (Market St at 4th St)             37.786375   \n",
              "3                        Central Ave at Fell St             37.773311   \n",
              "4                         10th Ave at E 15th St             37.792714   \n",
              "5                            Broadway at Kearny             37.798014   \n",
              "6                      San Jose Diridon Station             37.329732   \n",
              "7                        Valencia St at 21st St             37.756708   \n",
              "8                        Valencia St at 21st St             37.756708   \n",
              "9                            Mission Playground             37.759210   \n",
              "\n",
              "   end_station_longitude  bike_id   user_type  member_birth_year  \\\n",
              "0            -122.402923     4902    Customer             1984.0   \n",
              "1            -122.393170     2535    Customer                NaN   \n",
              "2            -122.404904     5905    Customer             1972.0   \n",
              "3            -122.444293     6638  Subscriber             1989.0   \n",
              "4            -122.248780     4898  Subscriber             1974.0   \n",
              "5            -122.405950     5200  Subscriber             1959.0   \n",
              "6            -121.901782     3803  Subscriber             1983.0   \n",
              "7            -122.421025     6329  Subscriber             1989.0   \n",
              "8            -122.421025     6548  Subscriber             1988.0   \n",
              "9            -122.421339     6488  Subscriber             1992.0   \n",
              "\n",
              "  member_gender bike_share_for_all_trip  \n",
              "0          Male                      No  \n",
              "1           NaN                      No  \n",
              "2          Male                      No  \n",
              "3         Other                      No  \n",
              "4          Male                     Yes  \n",
              "5          Male                      No  \n",
              "6        Female                      No  \n",
              "7          Male                      No  \n",
              "8         Other                      No  \n",
              "9          Male                      No  "
            ],
            "text/html": [
              "\n",
              "  <div id=\"df-73e14edb-5d80-434a-a51d-79a59c2e2791\">\n",
              "    <div class=\"colab-df-container\">\n",
              "      <div>\n",
              "<style scoped>\n",
              "    .dataframe tbody tr th:only-of-type {\n",
              "        vertical-align: middle;\n",
              "    }\n",
              "\n",
              "    .dataframe tbody tr th {\n",
              "        vertical-align: top;\n",
              "    }\n",
              "\n",
              "    .dataframe thead th {\n",
              "        text-align: right;\n",
              "    }\n",
              "</style>\n",
              "<table border=\"1\" class=\"dataframe\">\n",
              "  <thead>\n",
              "    <tr style=\"text-align: right;\">\n",
              "      <th></th>\n",
              "      <th>duration_sec</th>\n",
              "      <th>start_time</th>\n",
              "      <th>end_time</th>\n",
              "      <th>start_station_id</th>\n",
              "      <th>start_station_name</th>\n",
              "      <th>start_station_latitude</th>\n",
              "      <th>start_station_longitude</th>\n",
              "      <th>end_station_id</th>\n",
              "      <th>end_station_name</th>\n",
              "      <th>end_station_latitude</th>\n",
              "      <th>end_station_longitude</th>\n",
              "      <th>bike_id</th>\n",
              "      <th>user_type</th>\n",
              "      <th>member_birth_year</th>\n",
              "      <th>member_gender</th>\n",
              "      <th>bike_share_for_all_trip</th>\n",
              "    </tr>\n",
              "  </thead>\n",
              "  <tbody>\n",
              "    <tr>\n",
              "      <th>0</th>\n",
              "      <td>52185</td>\n",
              "      <td>2019-02-28 17:32:10.1450</td>\n",
              "      <td>2019-03-01 08:01:55.9750</td>\n",
              "      <td>21.0</td>\n",
              "      <td>Montgomery St BART Station (Market St at 2nd St)</td>\n",
              "      <td>37.789625</td>\n",
              "      <td>-122.400811</td>\n",
              "      <td>13.0</td>\n",
              "      <td>Commercial St at Montgomery St</td>\n",
              "      <td>37.794231</td>\n",
              "      <td>-122.402923</td>\n",
              "      <td>4902</td>\n",
              "      <td>Customer</td>\n",
              "      <td>1984.0</td>\n",
              "      <td>Male</td>\n",
              "      <td>No</td>\n",
              "    </tr>\n",
              "    <tr>\n",
              "      <th>1</th>\n",
              "      <td>42521</td>\n",
              "      <td>2019-02-28 18:53:21.7890</td>\n",
              "      <td>2019-03-01 06:42:03.0560</td>\n",
              "      <td>23.0</td>\n",
              "      <td>The Embarcadero at Steuart St</td>\n",
              "      <td>37.791464</td>\n",
              "      <td>-122.391034</td>\n",
              "      <td>81.0</td>\n",
              "      <td>Berry St at 4th St</td>\n",
              "      <td>37.775880</td>\n",
              "      <td>-122.393170</td>\n",
              "      <td>2535</td>\n",
              "      <td>Customer</td>\n",
              "      <td>NaN</td>\n",
              "      <td>NaN</td>\n",
              "      <td>No</td>\n",
              "    </tr>\n",
              "    <tr>\n",
              "      <th>2</th>\n",
              "      <td>61854</td>\n",
              "      <td>2019-02-28 12:13:13.2180</td>\n",
              "      <td>2019-03-01 05:24:08.1460</td>\n",
              "      <td>86.0</td>\n",
              "      <td>Market St at Dolores St</td>\n",
              "      <td>37.769305</td>\n",
              "      <td>-122.426826</td>\n",
              "      <td>3.0</td>\n",
              "      <td>Powell St BART Station (Market St at 4th St)</td>\n",
              "      <td>37.786375</td>\n",
              "      <td>-122.404904</td>\n",
              "      <td>5905</td>\n",
              "      <td>Customer</td>\n",
              "      <td>1972.0</td>\n",
              "      <td>Male</td>\n",
              "      <td>No</td>\n",
              "    </tr>\n",
              "    <tr>\n",
              "      <th>3</th>\n",
              "      <td>36490</td>\n",
              "      <td>2019-02-28 17:54:26.0100</td>\n",
              "      <td>2019-03-01 04:02:36.8420</td>\n",
              "      <td>375.0</td>\n",
              "      <td>Grove St at Masonic Ave</td>\n",
              "      <td>37.774836</td>\n",
              "      <td>-122.446546</td>\n",
              "      <td>70.0</td>\n",
              "      <td>Central Ave at Fell St</td>\n",
              "      <td>37.773311</td>\n",
              "      <td>-122.444293</td>\n",
              "      <td>6638</td>\n",
              "      <td>Subscriber</td>\n",
              "      <td>1989.0</td>\n",
              "      <td>Other</td>\n",
              "      <td>No</td>\n",
              "    </tr>\n",
              "    <tr>\n",
              "      <th>4</th>\n",
              "      <td>1585</td>\n",
              "      <td>2019-02-28 23:54:18.5490</td>\n",
              "      <td>2019-03-01 00:20:44.0740</td>\n",
              "      <td>7.0</td>\n",
              "      <td>Frank H Ogawa Plaza</td>\n",
              "      <td>37.804562</td>\n",
              "      <td>-122.271738</td>\n",
              "      <td>222.0</td>\n",
              "      <td>10th Ave at E 15th St</td>\n",
              "      <td>37.792714</td>\n",
              "      <td>-122.248780</td>\n",
              "      <td>4898</td>\n",
              "      <td>Subscriber</td>\n",
              "      <td>1974.0</td>\n",
              "      <td>Male</td>\n",
              "      <td>Yes</td>\n",
              "    </tr>\n",
              "    <tr>\n",
              "      <th>5</th>\n",
              "      <td>1793</td>\n",
              "      <td>2019-02-28 23:49:58.6320</td>\n",
              "      <td>2019-03-01 00:19:51.7600</td>\n",
              "      <td>93.0</td>\n",
              "      <td>4th St at Mission Bay Blvd S</td>\n",
              "      <td>37.770407</td>\n",
              "      <td>-122.391198</td>\n",
              "      <td>323.0</td>\n",
              "      <td>Broadway at Kearny</td>\n",
              "      <td>37.798014</td>\n",
              "      <td>-122.405950</td>\n",
              "      <td>5200</td>\n",
              "      <td>Subscriber</td>\n",
              "      <td>1959.0</td>\n",
              "      <td>Male</td>\n",
              "      <td>No</td>\n",
              "    </tr>\n",
              "    <tr>\n",
              "      <th>6</th>\n",
              "      <td>1147</td>\n",
              "      <td>2019-02-28 23:55:35.1040</td>\n",
              "      <td>2019-03-01 00:14:42.5880</td>\n",
              "      <td>300.0</td>\n",
              "      <td>Palm St at Willow St</td>\n",
              "      <td>37.317298</td>\n",
              "      <td>-121.884995</td>\n",
              "      <td>312.0</td>\n",
              "      <td>San Jose Diridon Station</td>\n",
              "      <td>37.329732</td>\n",
              "      <td>-121.901782</td>\n",
              "      <td>3803</td>\n",
              "      <td>Subscriber</td>\n",
              "      <td>1983.0</td>\n",
              "      <td>Female</td>\n",
              "      <td>No</td>\n",
              "    </tr>\n",
              "    <tr>\n",
              "      <th>7</th>\n",
              "      <td>1615</td>\n",
              "      <td>2019-02-28 23:41:06.7660</td>\n",
              "      <td>2019-03-01 00:08:02.7560</td>\n",
              "      <td>10.0</td>\n",
              "      <td>Washington St at Kearny St</td>\n",
              "      <td>37.795393</td>\n",
              "      <td>-122.404770</td>\n",
              "      <td>127.0</td>\n",
              "      <td>Valencia St at 21st St</td>\n",
              "      <td>37.756708</td>\n",
              "      <td>-122.421025</td>\n",
              "      <td>6329</td>\n",
              "      <td>Subscriber</td>\n",
              "      <td>1989.0</td>\n",
              "      <td>Male</td>\n",
              "      <td>No</td>\n",
              "    </tr>\n",
              "    <tr>\n",
              "      <th>8</th>\n",
              "      <td>1570</td>\n",
              "      <td>2019-02-28 23:41:48.7900</td>\n",
              "      <td>2019-03-01 00:07:59.7150</td>\n",
              "      <td>10.0</td>\n",
              "      <td>Washington St at Kearny St</td>\n",
              "      <td>37.795393</td>\n",
              "      <td>-122.404770</td>\n",
              "      <td>127.0</td>\n",
              "      <td>Valencia St at 21st St</td>\n",
              "      <td>37.756708</td>\n",
              "      <td>-122.421025</td>\n",
              "      <td>6548</td>\n",
              "      <td>Subscriber</td>\n",
              "      <td>1988.0</td>\n",
              "      <td>Other</td>\n",
              "      <td>No</td>\n",
              "    </tr>\n",
              "    <tr>\n",
              "      <th>9</th>\n",
              "      <td>1049</td>\n",
              "      <td>2019-02-28 23:49:47.6990</td>\n",
              "      <td>2019-03-01 00:07:17.0250</td>\n",
              "      <td>19.0</td>\n",
              "      <td>Post St at Kearny St</td>\n",
              "      <td>37.788975</td>\n",
              "      <td>-122.403452</td>\n",
              "      <td>121.0</td>\n",
              "      <td>Mission Playground</td>\n",
              "      <td>37.759210</td>\n",
              "      <td>-122.421339</td>\n",
              "      <td>6488</td>\n",
              "      <td>Subscriber</td>\n",
              "      <td>1992.0</td>\n",
              "      <td>Male</td>\n",
              "      <td>No</td>\n",
              "    </tr>\n",
              "  </tbody>\n",
              "</table>\n",
              "</div>\n",
              "      <button class=\"colab-df-convert\" onclick=\"convertToInteractive('df-73e14edb-5d80-434a-a51d-79a59c2e2791')\"\n",
              "              title=\"Convert this dataframe to an interactive table.\"\n",
              "              style=\"display:none;\">\n",
              "        \n",
              "  <svg xmlns=\"http://www.w3.org/2000/svg\" height=\"24px\"viewBox=\"0 0 24 24\"\n",
              "       width=\"24px\">\n",
              "    <path d=\"M0 0h24v24H0V0z\" fill=\"none\"/>\n",
              "    <path d=\"M18.56 5.44l.94 2.06.94-2.06 2.06-.94-2.06-.94-.94-2.06-.94 2.06-2.06.94zm-11 1L8.5 8.5l.94-2.06 2.06-.94-2.06-.94L8.5 2.5l-.94 2.06-2.06.94zm10 10l.94 2.06.94-2.06 2.06-.94-2.06-.94-.94-2.06-.94 2.06-2.06.94z\"/><path d=\"M17.41 7.96l-1.37-1.37c-.4-.4-.92-.59-1.43-.59-.52 0-1.04.2-1.43.59L10.3 9.45l-7.72 7.72c-.78.78-.78 2.05 0 2.83L4 21.41c.39.39.9.59 1.41.59.51 0 1.02-.2 1.41-.59l7.78-7.78 2.81-2.81c.8-.78.8-2.07 0-2.86zM5.41 20L4 18.59l7.72-7.72 1.47 1.35L5.41 20z\"/>\n",
              "  </svg>\n",
              "      </button>\n",
              "      \n",
              "  <style>\n",
              "    .colab-df-container {\n",
              "      display:flex;\n",
              "      flex-wrap:wrap;\n",
              "      gap: 12px;\n",
              "    }\n",
              "\n",
              "    .colab-df-convert {\n",
              "      background-color: #E8F0FE;\n",
              "      border: none;\n",
              "      border-radius: 50%;\n",
              "      cursor: pointer;\n",
              "      display: none;\n",
              "      fill: #1967D2;\n",
              "      height: 32px;\n",
              "      padding: 0 0 0 0;\n",
              "      width: 32px;\n",
              "    }\n",
              "\n",
              "    .colab-df-convert:hover {\n",
              "      background-color: #E2EBFA;\n",
              "      box-shadow: 0px 1px 2px rgba(60, 64, 67, 0.3), 0px 1px 3px 1px rgba(60, 64, 67, 0.15);\n",
              "      fill: #174EA6;\n",
              "    }\n",
              "\n",
              "    [theme=dark] .colab-df-convert {\n",
              "      background-color: #3B4455;\n",
              "      fill: #D2E3FC;\n",
              "    }\n",
              "\n",
              "    [theme=dark] .colab-df-convert:hover {\n",
              "      background-color: #434B5C;\n",
              "      box-shadow: 0px 1px 3px 1px rgba(0, 0, 0, 0.15);\n",
              "      filter: drop-shadow(0px 1px 2px rgba(0, 0, 0, 0.3));\n",
              "      fill: #FFFFFF;\n",
              "    }\n",
              "  </style>\n",
              "\n",
              "      <script>\n",
              "        const buttonEl =\n",
              "          document.querySelector('#df-73e14edb-5d80-434a-a51d-79a59c2e2791 button.colab-df-convert');\n",
              "        buttonEl.style.display =\n",
              "          google.colab.kernel.accessAllowed ? 'block' : 'none';\n",
              "\n",
              "        async function convertToInteractive(key) {\n",
              "          const element = document.querySelector('#df-73e14edb-5d80-434a-a51d-79a59c2e2791');\n",
              "          const dataTable =\n",
              "            await google.colab.kernel.invokeFunction('convertToInteractive',\n",
              "                                                     [key], {});\n",
              "          if (!dataTable) return;\n",
              "\n",
              "          const docLinkHtml = 'Like what you see? Visit the ' +\n",
              "            '<a target=\"_blank\" href=https://colab.research.google.com/notebooks/data_table.ipynb>data table notebook</a>'\n",
              "            + ' to learn more about interactive tables.';\n",
              "          element.innerHTML = '';\n",
              "          dataTable['output_type'] = 'display_data';\n",
              "          await google.colab.output.renderOutput(dataTable, element);\n",
              "          const docLink = document.createElement('div');\n",
              "          docLink.innerHTML = docLinkHtml;\n",
              "          element.appendChild(docLink);\n",
              "        }\n",
              "      </script>\n",
              "    </div>\n",
              "  </div>\n",
              "  "
            ]
          },
          "metadata": {},
          "execution_count": 202
        }
      ],
      "source": [
        "# read the csv file, and print the first ten rows\n",
        "\n",
        "bike_trips = pd.read_csv('bike_trips.csv')\n",
        "bike_trips.head(10)"
      ]
    },
    {
      "cell_type": "code",
      "source": [
        "# len(bike_trips.start_station_name.unique())\n",
        "bike_trips.member_gender.value_counts()"
      ],
      "metadata": {
        "colab": {
          "base_uri": "https://localhost:8080/"
        },
        "id": "8dduDli3LtbQ",
        "outputId": "b1e5cc4d-22b9-49ab-bbb7-7f3fa58ba475"
      },
      "execution_count": 203,
      "outputs": [
        {
          "output_type": "execute_result",
          "data": {
            "text/plain": [
              "Male      130651\n",
              "Female     40844\n",
              "Other       3652\n",
              "Name: member_gender, dtype: int64"
            ]
          },
          "metadata": {},
          "execution_count": 203
        }
      ]
    },
    {
      "cell_type": "code",
      "source": [
        "bike_trips.head(2)"
      ],
      "metadata": {
        "colab": {
          "base_uri": "https://localhost:8080/",
          "height": 228
        },
        "id": "V3Gp7OGkLmlO",
        "outputId": "ffe55146-9fa0-410c-91bc-17ecda9ff6d4"
      },
      "execution_count": 204,
      "outputs": [
        {
          "output_type": "execute_result",
          "data": {
            "text/plain": [
              "   duration_sec                start_time                  end_time  \\\n",
              "0         52185  2019-02-28 17:32:10.1450  2019-03-01 08:01:55.9750   \n",
              "1         42521  2019-02-28 18:53:21.7890  2019-03-01 06:42:03.0560   \n",
              "\n",
              "   start_station_id                                start_station_name  \\\n",
              "0              21.0  Montgomery St BART Station (Market St at 2nd St)   \n",
              "1              23.0                     The Embarcadero at Steuart St   \n",
              "\n",
              "   start_station_latitude  start_station_longitude  end_station_id  \\\n",
              "0               37.789625              -122.400811            13.0   \n",
              "1               37.791464              -122.391034            81.0   \n",
              "\n",
              "                 end_station_name  end_station_latitude  \\\n",
              "0  Commercial St at Montgomery St             37.794231   \n",
              "1              Berry St at 4th St             37.775880   \n",
              "\n",
              "   end_station_longitude  bike_id user_type  member_birth_year member_gender  \\\n",
              "0            -122.402923     4902  Customer             1984.0          Male   \n",
              "1            -122.393170     2535  Customer                NaN           NaN   \n",
              "\n",
              "  bike_share_for_all_trip  \n",
              "0                      No  \n",
              "1                      No  "
            ],
            "text/html": [
              "\n",
              "  <div id=\"df-67194bbb-597f-4872-843d-1667053ba0e4\">\n",
              "    <div class=\"colab-df-container\">\n",
              "      <div>\n",
              "<style scoped>\n",
              "    .dataframe tbody tr th:only-of-type {\n",
              "        vertical-align: middle;\n",
              "    }\n",
              "\n",
              "    .dataframe tbody tr th {\n",
              "        vertical-align: top;\n",
              "    }\n",
              "\n",
              "    .dataframe thead th {\n",
              "        text-align: right;\n",
              "    }\n",
              "</style>\n",
              "<table border=\"1\" class=\"dataframe\">\n",
              "  <thead>\n",
              "    <tr style=\"text-align: right;\">\n",
              "      <th></th>\n",
              "      <th>duration_sec</th>\n",
              "      <th>start_time</th>\n",
              "      <th>end_time</th>\n",
              "      <th>start_station_id</th>\n",
              "      <th>start_station_name</th>\n",
              "      <th>start_station_latitude</th>\n",
              "      <th>start_station_longitude</th>\n",
              "      <th>end_station_id</th>\n",
              "      <th>end_station_name</th>\n",
              "      <th>end_station_latitude</th>\n",
              "      <th>end_station_longitude</th>\n",
              "      <th>bike_id</th>\n",
              "      <th>user_type</th>\n",
              "      <th>member_birth_year</th>\n",
              "      <th>member_gender</th>\n",
              "      <th>bike_share_for_all_trip</th>\n",
              "    </tr>\n",
              "  </thead>\n",
              "  <tbody>\n",
              "    <tr>\n",
              "      <th>0</th>\n",
              "      <td>52185</td>\n",
              "      <td>2019-02-28 17:32:10.1450</td>\n",
              "      <td>2019-03-01 08:01:55.9750</td>\n",
              "      <td>21.0</td>\n",
              "      <td>Montgomery St BART Station (Market St at 2nd St)</td>\n",
              "      <td>37.789625</td>\n",
              "      <td>-122.400811</td>\n",
              "      <td>13.0</td>\n",
              "      <td>Commercial St at Montgomery St</td>\n",
              "      <td>37.794231</td>\n",
              "      <td>-122.402923</td>\n",
              "      <td>4902</td>\n",
              "      <td>Customer</td>\n",
              "      <td>1984.0</td>\n",
              "      <td>Male</td>\n",
              "      <td>No</td>\n",
              "    </tr>\n",
              "    <tr>\n",
              "      <th>1</th>\n",
              "      <td>42521</td>\n",
              "      <td>2019-02-28 18:53:21.7890</td>\n",
              "      <td>2019-03-01 06:42:03.0560</td>\n",
              "      <td>23.0</td>\n",
              "      <td>The Embarcadero at Steuart St</td>\n",
              "      <td>37.791464</td>\n",
              "      <td>-122.391034</td>\n",
              "      <td>81.0</td>\n",
              "      <td>Berry St at 4th St</td>\n",
              "      <td>37.775880</td>\n",
              "      <td>-122.393170</td>\n",
              "      <td>2535</td>\n",
              "      <td>Customer</td>\n",
              "      <td>NaN</td>\n",
              "      <td>NaN</td>\n",
              "      <td>No</td>\n",
              "    </tr>\n",
              "  </tbody>\n",
              "</table>\n",
              "</div>\n",
              "      <button class=\"colab-df-convert\" onclick=\"convertToInteractive('df-67194bbb-597f-4872-843d-1667053ba0e4')\"\n",
              "              title=\"Convert this dataframe to an interactive table.\"\n",
              "              style=\"display:none;\">\n",
              "        \n",
              "  <svg xmlns=\"http://www.w3.org/2000/svg\" height=\"24px\"viewBox=\"0 0 24 24\"\n",
              "       width=\"24px\">\n",
              "    <path d=\"M0 0h24v24H0V0z\" fill=\"none\"/>\n",
              "    <path d=\"M18.56 5.44l.94 2.06.94-2.06 2.06-.94-2.06-.94-.94-2.06-.94 2.06-2.06.94zm-11 1L8.5 8.5l.94-2.06 2.06-.94-2.06-.94L8.5 2.5l-.94 2.06-2.06.94zm10 10l.94 2.06.94-2.06 2.06-.94-2.06-.94-.94-2.06-.94 2.06-2.06.94z\"/><path d=\"M17.41 7.96l-1.37-1.37c-.4-.4-.92-.59-1.43-.59-.52 0-1.04.2-1.43.59L10.3 9.45l-7.72 7.72c-.78.78-.78 2.05 0 2.83L4 21.41c.39.39.9.59 1.41.59.51 0 1.02-.2 1.41-.59l7.78-7.78 2.81-2.81c.8-.78.8-2.07 0-2.86zM5.41 20L4 18.59l7.72-7.72 1.47 1.35L5.41 20z\"/>\n",
              "  </svg>\n",
              "      </button>\n",
              "      \n",
              "  <style>\n",
              "    .colab-df-container {\n",
              "      display:flex;\n",
              "      flex-wrap:wrap;\n",
              "      gap: 12px;\n",
              "    }\n",
              "\n",
              "    .colab-df-convert {\n",
              "      background-color: #E8F0FE;\n",
              "      border: none;\n",
              "      border-radius: 50%;\n",
              "      cursor: pointer;\n",
              "      display: none;\n",
              "      fill: #1967D2;\n",
              "      height: 32px;\n",
              "      padding: 0 0 0 0;\n",
              "      width: 32px;\n",
              "    }\n",
              "\n",
              "    .colab-df-convert:hover {\n",
              "      background-color: #E2EBFA;\n",
              "      box-shadow: 0px 1px 2px rgba(60, 64, 67, 0.3), 0px 1px 3px 1px rgba(60, 64, 67, 0.15);\n",
              "      fill: #174EA6;\n",
              "    }\n",
              "\n",
              "    [theme=dark] .colab-df-convert {\n",
              "      background-color: #3B4455;\n",
              "      fill: #D2E3FC;\n",
              "    }\n",
              "\n",
              "    [theme=dark] .colab-df-convert:hover {\n",
              "      background-color: #434B5C;\n",
              "      box-shadow: 0px 1px 3px 1px rgba(0, 0, 0, 0.15);\n",
              "      filter: drop-shadow(0px 1px 2px rgba(0, 0, 0, 0.3));\n",
              "      fill: #FFFFFF;\n",
              "    }\n",
              "  </style>\n",
              "\n",
              "      <script>\n",
              "        const buttonEl =\n",
              "          document.querySelector('#df-67194bbb-597f-4872-843d-1667053ba0e4 button.colab-df-convert');\n",
              "        buttonEl.style.display =\n",
              "          google.colab.kernel.accessAllowed ? 'block' : 'none';\n",
              "\n",
              "        async function convertToInteractive(key) {\n",
              "          const element = document.querySelector('#df-67194bbb-597f-4872-843d-1667053ba0e4');\n",
              "          const dataTable =\n",
              "            await google.colab.kernel.invokeFunction('convertToInteractive',\n",
              "                                                     [key], {});\n",
              "          if (!dataTable) return;\n",
              "\n",
              "          const docLinkHtml = 'Like what you see? Visit the ' +\n",
              "            '<a target=\"_blank\" href=https://colab.research.google.com/notebooks/data_table.ipynb>data table notebook</a>'\n",
              "            + ' to learn more about interactive tables.';\n",
              "          element.innerHTML = '';\n",
              "          dataTable['output_type'] = 'display_data';\n",
              "          await google.colab.output.renderOutput(dataTable, element);\n",
              "          const docLink = document.createElement('div');\n",
              "          docLink.innerHTML = docLinkHtml;\n",
              "          element.appendChild(docLink);\n",
              "        }\n",
              "      </script>\n",
              "    </div>\n",
              "  </div>\n",
              "  "
            ]
          },
          "metadata": {},
          "execution_count": 204
        }
      ]
    },
    {
      "cell_type": "markdown",
      "metadata": {
        "id": "IFveiu1-9bDB"
      },
      "source": [
        "### STEP 2: Exploring Data"
      ]
    },
    {
      "cell_type": "code",
      "execution_count": 205,
      "metadata": {
        "colab": {
          "base_uri": "https://localhost:8080/"
        },
        "id": "0BV0-ikI9bDB",
        "outputId": "c54216d6-236e-4f88-b1d7-5681873bccf2"
      },
      "outputs": [
        {
          "output_type": "execute_result",
          "data": {
            "text/plain": [
              "(183412, 16)"
            ]
          },
          "metadata": {},
          "execution_count": 205
        }
      ],
      "source": [
        "# how many rows and columns are in the data\n",
        "bike_trips.shape"
      ]
    },
    {
      "cell_type": "code",
      "source": [
        "# what columns are in the data\n",
        "bike_trips.columns"
      ],
      "metadata": {
        "colab": {
          "base_uri": "https://localhost:8080/"
        },
        "id": "ZR6WTqQ0CCq-",
        "outputId": "92370c0f-b0e8-4fb4-842a-d022332d9f50"
      },
      "execution_count": 206,
      "outputs": [
        {
          "output_type": "execute_result",
          "data": {
            "text/plain": [
              "Index(['duration_sec', 'start_time', 'end_time', 'start_station_id',\n",
              "       'start_station_name', 'start_station_latitude',\n",
              "       'start_station_longitude', 'end_station_id', 'end_station_name',\n",
              "       'end_station_latitude', 'end_station_longitude', 'bike_id', 'user_type',\n",
              "       'member_birth_year', 'member_gender', 'bike_share_for_all_trip'],\n",
              "      dtype='object')"
            ]
          },
          "metadata": {},
          "execution_count": 206
        }
      ]
    },
    {
      "cell_type": "code",
      "execution_count": 207,
      "metadata": {
        "colab": {
          "base_uri": "https://localhost:8080/"
        },
        "id": "atbqOVpl9bDC",
        "outputId": "7b67ca46-ced5-4fb7-a0db-9c1e32756826"
      },
      "outputs": [
        {
          "output_type": "stream",
          "name": "stdout",
          "text": [
            "<class 'pandas.core.frame.DataFrame'>\n",
            "RangeIndex: 183412 entries, 0 to 183411\n",
            "Data columns (total 16 columns):\n",
            " #   Column                   Non-Null Count   Dtype  \n",
            "---  ------                   --------------   -----  \n",
            " 0   duration_sec             183412 non-null  int64  \n",
            " 1   start_time               183412 non-null  object \n",
            " 2   end_time                 183412 non-null  object \n",
            " 3   start_station_id         183215 non-null  float64\n",
            " 4   start_station_name       183215 non-null  object \n",
            " 5   start_station_latitude   183412 non-null  float64\n",
            " 6   start_station_longitude  183412 non-null  float64\n",
            " 7   end_station_id           183215 non-null  float64\n",
            " 8   end_station_name         183215 non-null  object \n",
            " 9   end_station_latitude     183412 non-null  float64\n",
            " 10  end_station_longitude    183412 non-null  float64\n",
            " 11  bike_id                  183412 non-null  int64  \n",
            " 12  user_type                183412 non-null  object \n",
            " 13  member_birth_year        175147 non-null  float64\n",
            " 14  member_gender            175147 non-null  object \n",
            " 15  bike_share_for_all_trip  183412 non-null  object \n",
            "dtypes: float64(7), int64(2), object(7)\n",
            "memory usage: 22.4+ MB\n"
          ]
        }
      ],
      "source": [
        "# a glimpse of columns datatype and  if there are missing values\n",
        "bike_trips.info()"
      ]
    },
    {
      "cell_type": "code",
      "execution_count": 208,
      "metadata": {
        "colab": {
          "base_uri": "https://localhost:8080/",
          "height": 364
        },
        "id": "lInUyliz9bDC",
        "outputId": "3107d6c1-4fd7-42bb-c109-904677b2a3c1"
      },
      "outputs": [
        {
          "output_type": "execute_result",
          "data": {
            "text/plain": [
              "        duration_sec  start_station_id  start_station_latitude  \\\n",
              "count  183412.000000     183215.000000           183412.000000   \n",
              "mean      726.078435        138.590427               37.771223   \n",
              "std      1794.389780        111.778864                0.099581   \n",
              "min        61.000000          3.000000               37.317298   \n",
              "25%       325.000000         47.000000               37.770083   \n",
              "50%       514.000000        104.000000               37.780760   \n",
              "75%       796.000000        239.000000               37.797280   \n",
              "max     85444.000000        398.000000               37.880222   \n",
              "\n",
              "       start_station_longitude  end_station_id  end_station_latitude  \\\n",
              "count            183412.000000   183215.000000         183412.000000   \n",
              "mean               -122.352664      136.249123             37.771427   \n",
              "std                   0.117097      111.515131              0.099490   \n",
              "min                -122.453704        3.000000             37.317298   \n",
              "25%                -122.412408       44.000000             37.770407   \n",
              "50%                -122.398285      100.000000             37.781010   \n",
              "75%                -122.286533      235.000000             37.797320   \n",
              "max                -121.874119      398.000000             37.880222   \n",
              "\n",
              "       end_station_longitude        bike_id  member_birth_year  \n",
              "count          183412.000000  183412.000000      175147.000000  \n",
              "mean             -122.352250    4472.906375        1984.806437  \n",
              "std                 0.116673    1664.383394          10.116689  \n",
              "min              -122.453704      11.000000        1878.000000  \n",
              "25%              -122.411726    3777.000000        1980.000000  \n",
              "50%              -122.398279    4958.000000        1987.000000  \n",
              "75%              -122.288045    5502.000000        1992.000000  \n",
              "max              -121.874119    6645.000000        2001.000000  "
            ],
            "text/html": [
              "\n",
              "  <div id=\"df-f833eebb-0d71-4e1a-8250-2cb0421956fb\">\n",
              "    <div class=\"colab-df-container\">\n",
              "      <div>\n",
              "<style scoped>\n",
              "    .dataframe tbody tr th:only-of-type {\n",
              "        vertical-align: middle;\n",
              "    }\n",
              "\n",
              "    .dataframe tbody tr th {\n",
              "        vertical-align: top;\n",
              "    }\n",
              "\n",
              "    .dataframe thead th {\n",
              "        text-align: right;\n",
              "    }\n",
              "</style>\n",
              "<table border=\"1\" class=\"dataframe\">\n",
              "  <thead>\n",
              "    <tr style=\"text-align: right;\">\n",
              "      <th></th>\n",
              "      <th>duration_sec</th>\n",
              "      <th>start_station_id</th>\n",
              "      <th>start_station_latitude</th>\n",
              "      <th>start_station_longitude</th>\n",
              "      <th>end_station_id</th>\n",
              "      <th>end_station_latitude</th>\n",
              "      <th>end_station_longitude</th>\n",
              "      <th>bike_id</th>\n",
              "      <th>member_birth_year</th>\n",
              "    </tr>\n",
              "  </thead>\n",
              "  <tbody>\n",
              "    <tr>\n",
              "      <th>count</th>\n",
              "      <td>183412.000000</td>\n",
              "      <td>183215.000000</td>\n",
              "      <td>183412.000000</td>\n",
              "      <td>183412.000000</td>\n",
              "      <td>183215.000000</td>\n",
              "      <td>183412.000000</td>\n",
              "      <td>183412.000000</td>\n",
              "      <td>183412.000000</td>\n",
              "      <td>175147.000000</td>\n",
              "    </tr>\n",
              "    <tr>\n",
              "      <th>mean</th>\n",
              "      <td>726.078435</td>\n",
              "      <td>138.590427</td>\n",
              "      <td>37.771223</td>\n",
              "      <td>-122.352664</td>\n",
              "      <td>136.249123</td>\n",
              "      <td>37.771427</td>\n",
              "      <td>-122.352250</td>\n",
              "      <td>4472.906375</td>\n",
              "      <td>1984.806437</td>\n",
              "    </tr>\n",
              "    <tr>\n",
              "      <th>std</th>\n",
              "      <td>1794.389780</td>\n",
              "      <td>111.778864</td>\n",
              "      <td>0.099581</td>\n",
              "      <td>0.117097</td>\n",
              "      <td>111.515131</td>\n",
              "      <td>0.099490</td>\n",
              "      <td>0.116673</td>\n",
              "      <td>1664.383394</td>\n",
              "      <td>10.116689</td>\n",
              "    </tr>\n",
              "    <tr>\n",
              "      <th>min</th>\n",
              "      <td>61.000000</td>\n",
              "      <td>3.000000</td>\n",
              "      <td>37.317298</td>\n",
              "      <td>-122.453704</td>\n",
              "      <td>3.000000</td>\n",
              "      <td>37.317298</td>\n",
              "      <td>-122.453704</td>\n",
              "      <td>11.000000</td>\n",
              "      <td>1878.000000</td>\n",
              "    </tr>\n",
              "    <tr>\n",
              "      <th>25%</th>\n",
              "      <td>325.000000</td>\n",
              "      <td>47.000000</td>\n",
              "      <td>37.770083</td>\n",
              "      <td>-122.412408</td>\n",
              "      <td>44.000000</td>\n",
              "      <td>37.770407</td>\n",
              "      <td>-122.411726</td>\n",
              "      <td>3777.000000</td>\n",
              "      <td>1980.000000</td>\n",
              "    </tr>\n",
              "    <tr>\n",
              "      <th>50%</th>\n",
              "      <td>514.000000</td>\n",
              "      <td>104.000000</td>\n",
              "      <td>37.780760</td>\n",
              "      <td>-122.398285</td>\n",
              "      <td>100.000000</td>\n",
              "      <td>37.781010</td>\n",
              "      <td>-122.398279</td>\n",
              "      <td>4958.000000</td>\n",
              "      <td>1987.000000</td>\n",
              "    </tr>\n",
              "    <tr>\n",
              "      <th>75%</th>\n",
              "      <td>796.000000</td>\n",
              "      <td>239.000000</td>\n",
              "      <td>37.797280</td>\n",
              "      <td>-122.286533</td>\n",
              "      <td>235.000000</td>\n",
              "      <td>37.797320</td>\n",
              "      <td>-122.288045</td>\n",
              "      <td>5502.000000</td>\n",
              "      <td>1992.000000</td>\n",
              "    </tr>\n",
              "    <tr>\n",
              "      <th>max</th>\n",
              "      <td>85444.000000</td>\n",
              "      <td>398.000000</td>\n",
              "      <td>37.880222</td>\n",
              "      <td>-121.874119</td>\n",
              "      <td>398.000000</td>\n",
              "      <td>37.880222</td>\n",
              "      <td>-121.874119</td>\n",
              "      <td>6645.000000</td>\n",
              "      <td>2001.000000</td>\n",
              "    </tr>\n",
              "  </tbody>\n",
              "</table>\n",
              "</div>\n",
              "      <button class=\"colab-df-convert\" onclick=\"convertToInteractive('df-f833eebb-0d71-4e1a-8250-2cb0421956fb')\"\n",
              "              title=\"Convert this dataframe to an interactive table.\"\n",
              "              style=\"display:none;\">\n",
              "        \n",
              "  <svg xmlns=\"http://www.w3.org/2000/svg\" height=\"24px\"viewBox=\"0 0 24 24\"\n",
              "       width=\"24px\">\n",
              "    <path d=\"M0 0h24v24H0V0z\" fill=\"none\"/>\n",
              "    <path d=\"M18.56 5.44l.94 2.06.94-2.06 2.06-.94-2.06-.94-.94-2.06-.94 2.06-2.06.94zm-11 1L8.5 8.5l.94-2.06 2.06-.94-2.06-.94L8.5 2.5l-.94 2.06-2.06.94zm10 10l.94 2.06.94-2.06 2.06-.94-2.06-.94-.94-2.06-.94 2.06-2.06.94z\"/><path d=\"M17.41 7.96l-1.37-1.37c-.4-.4-.92-.59-1.43-.59-.52 0-1.04.2-1.43.59L10.3 9.45l-7.72 7.72c-.78.78-.78 2.05 0 2.83L4 21.41c.39.39.9.59 1.41.59.51 0 1.02-.2 1.41-.59l7.78-7.78 2.81-2.81c.8-.78.8-2.07 0-2.86zM5.41 20L4 18.59l7.72-7.72 1.47 1.35L5.41 20z\"/>\n",
              "  </svg>\n",
              "      </button>\n",
              "      \n",
              "  <style>\n",
              "    .colab-df-container {\n",
              "      display:flex;\n",
              "      flex-wrap:wrap;\n",
              "      gap: 12px;\n",
              "    }\n",
              "\n",
              "    .colab-df-convert {\n",
              "      background-color: #E8F0FE;\n",
              "      border: none;\n",
              "      border-radius: 50%;\n",
              "      cursor: pointer;\n",
              "      display: none;\n",
              "      fill: #1967D2;\n",
              "      height: 32px;\n",
              "      padding: 0 0 0 0;\n",
              "      width: 32px;\n",
              "    }\n",
              "\n",
              "    .colab-df-convert:hover {\n",
              "      background-color: #E2EBFA;\n",
              "      box-shadow: 0px 1px 2px rgba(60, 64, 67, 0.3), 0px 1px 3px 1px rgba(60, 64, 67, 0.15);\n",
              "      fill: #174EA6;\n",
              "    }\n",
              "\n",
              "    [theme=dark] .colab-df-convert {\n",
              "      background-color: #3B4455;\n",
              "      fill: #D2E3FC;\n",
              "    }\n",
              "\n",
              "    [theme=dark] .colab-df-convert:hover {\n",
              "      background-color: #434B5C;\n",
              "      box-shadow: 0px 1px 3px 1px rgba(0, 0, 0, 0.15);\n",
              "      filter: drop-shadow(0px 1px 2px rgba(0, 0, 0, 0.3));\n",
              "      fill: #FFFFFF;\n",
              "    }\n",
              "  </style>\n",
              "\n",
              "      <script>\n",
              "        const buttonEl =\n",
              "          document.querySelector('#df-f833eebb-0d71-4e1a-8250-2cb0421956fb button.colab-df-convert');\n",
              "        buttonEl.style.display =\n",
              "          google.colab.kernel.accessAllowed ? 'block' : 'none';\n",
              "\n",
              "        async function convertToInteractive(key) {\n",
              "          const element = document.querySelector('#df-f833eebb-0d71-4e1a-8250-2cb0421956fb');\n",
              "          const dataTable =\n",
              "            await google.colab.kernel.invokeFunction('convertToInteractive',\n",
              "                                                     [key], {});\n",
              "          if (!dataTable) return;\n",
              "\n",
              "          const docLinkHtml = 'Like what you see? Visit the ' +\n",
              "            '<a target=\"_blank\" href=https://colab.research.google.com/notebooks/data_table.ipynb>data table notebook</a>'\n",
              "            + ' to learn more about interactive tables.';\n",
              "          element.innerHTML = '';\n",
              "          dataTable['output_type'] = 'display_data';\n",
              "          await google.colab.output.renderOutput(dataTable, element);\n",
              "          const docLink = document.createElement('div');\n",
              "          docLink.innerHTML = docLinkHtml;\n",
              "          element.appendChild(docLink);\n",
              "        }\n",
              "      </script>\n",
              "    </div>\n",
              "  </div>\n",
              "  "
            ]
          },
          "metadata": {},
          "execution_count": 208
        }
      ],
      "source": [
        "bike_trips.describe()"
      ]
    },
    {
      "cell_type": "code",
      "source": [
        "# check for missing data\n",
        "bike_trips.isnull().sum()"
      ],
      "metadata": {
        "colab": {
          "base_uri": "https://localhost:8080/"
        },
        "id": "m4cd4ZSdY_vH",
        "outputId": "064f5c46-89d6-4124-a71a-8a1714910961"
      },
      "execution_count": 209,
      "outputs": [
        {
          "output_type": "execute_result",
          "data": {
            "text/plain": [
              "duration_sec                  0\n",
              "start_time                    0\n",
              "end_time                      0\n",
              "start_station_id            197\n",
              "start_station_name          197\n",
              "start_station_latitude        0\n",
              "start_station_longitude       0\n",
              "end_station_id              197\n",
              "end_station_name            197\n",
              "end_station_latitude          0\n",
              "end_station_longitude         0\n",
              "bike_id                       0\n",
              "user_type                     0\n",
              "member_birth_year          8265\n",
              "member_gender              8265\n",
              "bike_share_for_all_trip       0\n",
              "dtype: int64"
            ]
          },
          "metadata": {},
          "execution_count": 209
        }
      ]
    },
    {
      "cell_type": "code",
      "source": [
        "# check for duplicates rowa\n",
        "bike_trips.duplicated().sum()"
      ],
      "metadata": {
        "colab": {
          "base_uri": "https://localhost:8080/"
        },
        "id": "nLNILNfHowOx",
        "outputId": "964d6381-2790-4035-a98f-58b35b5bd579"
      },
      "execution_count": 210,
      "outputs": [
        {
          "output_type": "execute_result",
          "data": {
            "text/plain": [
              "0"
            ]
          },
          "metadata": {},
          "execution_count": 210
        }
      ]
    },
    {
      "cell_type": "markdown",
      "source": [
        "##Data Assess: \n",
        "From data exploring that we did above here is our note:\n",
        "1. we have seven unwanted columns:\n",
        "> 1. *start_station_id*\n",
        "> 2. *start_station_latitude*\n",
        "> 3. *start_station_longitude*\n",
        "> 4. *end_station_id*\n",
        "> 5. *end_station_latitude*\n",
        "> 6. *end_station_longitude*\n",
        "> 7.*end_station_longitude*\n",
        "\n",
        "2. Some columns datatype shoud be fixed:\n",
        "> 1. ***start_time and end_time*** columns has the Object datatype instead of datetime datatype\n",
        "> 2. ***user_type and member_gender*** columns from Object datatype instead of Category datatype\n",
        "\n",
        "3. We cat extract values from some columns:\n",
        "> 1. We can Extract **month**, **day** and **hour** from **start_time** column\n",
        "> 2. We can calculate **member age** from **member_birth_year**.\n",
        "\n",
        "4. null values\n",
        "\n",
        "\n",
        "> **NOTE:** the dataset has no duplicated columns\n",
        "\n",
        "---"
      ],
      "metadata": {
        "id": "SGzM8-C0cQ8s"
      }
    },
    {
      "cell_type": "markdown",
      "metadata": {
        "id": "_lbHfbUs9bDC"
      },
      "source": [
        "## STEP 3: Clean Data"
      ]
    },
    {
      "cell_type": "markdown",
      "metadata": {
        "id": "aopnlI8A9bDC"
      },
      "source": [
        "After exploring the dataset, we are ready to start **Data Cleaning** process:\n",
        "1.  Remove Unwanted columns\n",
        "2. Fix Structural Errors\n",
        ">* Convert Columns Datatype\n",
        ">* Extract new Columns\n",
        "\n",
        "3. Handle Missing Data\n",
        ">* Filling Missing Values\n",
        ">* Drop Missing Values\n"
      ]
    },
    {
      "cell_type": "markdown",
      "metadata": {
        "id": "rAZajOLR9bDD"
      },
      "source": [
        " ### 1. Remove Unwanted Columns\n",
        "\n",
        "Here we will drop the unwanted columns since we think they have no effect on our analysis\n",
        "\n",
        "----"
      ]
    },
    {
      "cell_type": "code",
      "execution_count": 211,
      "metadata": {
        "id": "-p_5ymaz9bDD"
      },
      "outputs": [],
      "source": [
        "# drop the unwanted Columns (index=1 means we want to drop columns)\n",
        "bike_trips.drop(['start_station_id', 'start_station_latitude', 'start_station_longitude','end_station_id', \n",
        "                 'end_station_latitude', 'end_station_longitude', 'end_station_longitude'], axis = 1, inplace = True)\n"
      ]
    },
    {
      "cell_type": "markdown",
      "metadata": {
        "id": "inW8cnkl9bDD"
      },
      "source": [
        "Check the number of columns "
      ]
    },
    {
      "cell_type": "code",
      "execution_count": 212,
      "metadata": {
        "colab": {
          "base_uri": "https://localhost:8080/"
        },
        "id": "Z0XtJZEy9bDD",
        "outputId": "0a9898ad-4a25-4f00-95af-53bb50985637"
      },
      "outputs": [
        {
          "output_type": "execute_result",
          "data": {
            "text/plain": [
              "(183412, 10)"
            ]
          },
          "metadata": {},
          "execution_count": 212
        }
      ],
      "source": [
        "# checking\n",
        "bike_trips.shape"
      ]
    },
    {
      "cell_type": "markdown",
      "metadata": {
        "id": "MA1e7N9W9bDD"
      },
      "source": [
        " ### 2. Fix Structural Errors\n"
      ]
    },
    {
      "cell_type": "markdown",
      "source": [
        ">####  Convert Columns Datatype\n"
      ],
      "metadata": {
        "id": "54E4RLWnDkuh"
      }
    },
    {
      "cell_type": "markdown",
      "metadata": {
        "id": "E5VwrRc99bDE"
      },
      "source": [
        "From the output of *info() function*, we can see that \n",
        "1. 'start_time' and 'end_time' columns has the Object datatype instead of datetime datatype\n",
        "2. 'user_type' and 'member_gender'columns from Object datatype instead of Category datatype\n",
        "\n",
        "---\n",
        "\n",
        "* We will convert **'start_time'** and **'end_time'** columns from **Object** to **Datetime**"
      ]
    },
    {
      "cell_type": "code",
      "execution_count": 213,
      "metadata": {
        "id": "xq-taT2t9bDE"
      },
      "outputs": [],
      "source": [
        "# convert start and end time column to datetime \n",
        "bike_trips['start_time'] = pd.to_datetime(bike_trips['start_time'])\n",
        "bike_trips['end_time'] = pd.to_datetime(bike_trips['end_time'])"
      ]
    },
    {
      "cell_type": "markdown",
      "metadata": {
        "id": "RJ-Wl6Ru9bDE"
      },
      "source": [
        "* Convert **'user_type'** and **'member_gender'** columns from **Object** to **Category**"
      ]
    },
    {
      "cell_type": "code",
      "execution_count": 214,
      "metadata": {
        "id": "85UuGceB9bDF"
      },
      "outputs": [],
      "source": [
        "# convert to category\n",
        "bike_trips['user_type'] = bike_trips['user_type'].astype('category')\n",
        "bike_trips['member_gender'] = bike_trips['member_gender'].astype('category')"
      ]
    },
    {
      "cell_type": "markdown",
      "metadata": {
        "id": "WLAgqoAj9bDF"
      },
      "source": [
        "> Check the new changes"
      ]
    },
    {
      "cell_type": "code",
      "execution_count": 215,
      "metadata": {
        "id": "kI8KDD5o9bDF",
        "colab": {
          "base_uri": "https://localhost:8080/"
        },
        "outputId": "b8f8968a-e302-4397-f672-202fafd1b223"
      },
      "outputs": [
        {
          "output_type": "execute_result",
          "data": {
            "text/plain": [
              "CategoricalDtype(categories=['Female', 'Male', 'Other'], ordered=False)"
            ]
          },
          "metadata": {},
          "execution_count": 215
        }
      ],
      "source": [
        "# checking\n",
        "bike_trips['member_gender'].dtypes"
      ]
    },
    {
      "cell_type": "code",
      "source": [
        "bike_trips.info()"
      ],
      "metadata": {
        "colab": {
          "base_uri": "https://localhost:8080/"
        },
        "id": "XQpRsNnsgHAv",
        "outputId": "371338dd-1b10-478d-ee81-1adef825caaf"
      },
      "execution_count": 216,
      "outputs": [
        {
          "output_type": "stream",
          "name": "stdout",
          "text": [
            "<class 'pandas.core.frame.DataFrame'>\n",
            "RangeIndex: 183412 entries, 0 to 183411\n",
            "Data columns (total 10 columns):\n",
            " #   Column                   Non-Null Count   Dtype         \n",
            "---  ------                   --------------   -----         \n",
            " 0   duration_sec             183412 non-null  int64         \n",
            " 1   start_time               183412 non-null  datetime64[ns]\n",
            " 2   end_time                 183412 non-null  datetime64[ns]\n",
            " 3   start_station_name       183215 non-null  object        \n",
            " 4   end_station_name         183215 non-null  object        \n",
            " 5   bike_id                  183412 non-null  int64         \n",
            " 6   user_type                183412 non-null  category      \n",
            " 7   member_birth_year        175147 non-null  float64       \n",
            " 8   member_gender            175147 non-null  category      \n",
            " 9   bike_share_for_all_trip  183412 non-null  object        \n",
            "dtypes: category(2), datetime64[ns](2), float64(1), int64(2), object(3)\n",
            "memory usage: 11.5+ MB\n"
          ]
        }
      ]
    },
    {
      "cell_type": "markdown",
      "source": [
        "> #### Extract new Columns"
      ],
      "metadata": {
        "id": "8H2fbAs3DvwW"
      }
    },
    {
      "cell_type": "markdown",
      "metadata": {
        "id": "rosEgA7v9bDE"
      },
      "source": [
        "* We can Extract **month**, **day** and **hour** from **start_time** column"
      ]
    },
    {
      "cell_type": "code",
      "execution_count": 217,
      "metadata": {
        "id": "dGL6aFl39bDE"
      },
      "outputs": [],
      "source": [
        "# extract month, day and hour from start_time column\n",
        "bike_trips['start_month']= bike_trips['start_time'].dt.strftime('%B')\n",
        "bike_trips['start_day']= bike_trips['start_time'].dt.strftime('%A')\n",
        "bike_trips['start_hour']= bike_trips['start_time'].dt.strftime('%H')"
      ]
    },
    {
      "cell_type": "code",
      "source": [
        "# checking \n",
        "bike_trips.head()"
      ],
      "metadata": {
        "colab": {
          "base_uri": "https://localhost:8080/",
          "height": 392
        },
        "id": "Cx1k5GojUTfg",
        "outputId": "ccbfe5a3-5a6a-43a1-9bc5-54b8df52f470"
      },
      "execution_count": 218,
      "outputs": [
        {
          "output_type": "execute_result",
          "data": {
            "text/plain": [
              "   duration_sec              start_time                end_time  \\\n",
              "0         52185 2019-02-28 17:32:10.145 2019-03-01 08:01:55.975   \n",
              "1         42521 2019-02-28 18:53:21.789 2019-03-01 06:42:03.056   \n",
              "2         61854 2019-02-28 12:13:13.218 2019-03-01 05:24:08.146   \n",
              "3         36490 2019-02-28 17:54:26.010 2019-03-01 04:02:36.842   \n",
              "4          1585 2019-02-28 23:54:18.549 2019-03-01 00:20:44.074   \n",
              "\n",
              "                                 start_station_name  \\\n",
              "0  Montgomery St BART Station (Market St at 2nd St)   \n",
              "1                     The Embarcadero at Steuart St   \n",
              "2                           Market St at Dolores St   \n",
              "3                           Grove St at Masonic Ave   \n",
              "4                               Frank H Ogawa Plaza   \n",
              "\n",
              "                               end_station_name  bike_id   user_type  \\\n",
              "0                Commercial St at Montgomery St     4902    Customer   \n",
              "1                            Berry St at 4th St     2535    Customer   \n",
              "2  Powell St BART Station (Market St at 4th St)     5905    Customer   \n",
              "3                        Central Ave at Fell St     6638  Subscriber   \n",
              "4                         10th Ave at E 15th St     4898  Subscriber   \n",
              "\n",
              "   member_birth_year member_gender bike_share_for_all_trip start_month  \\\n",
              "0             1984.0          Male                      No    February   \n",
              "1                NaN           NaN                      No    February   \n",
              "2             1972.0          Male                      No    February   \n",
              "3             1989.0         Other                      No    February   \n",
              "4             1974.0          Male                     Yes    February   \n",
              "\n",
              "  start_day start_hour  \n",
              "0  Thursday         17  \n",
              "1  Thursday         18  \n",
              "2  Thursday         12  \n",
              "3  Thursday         17  \n",
              "4  Thursday         23  "
            ],
            "text/html": [
              "\n",
              "  <div id=\"df-baa82eb4-dc1b-47fc-958c-3a6681ee215a\">\n",
              "    <div class=\"colab-df-container\">\n",
              "      <div>\n",
              "<style scoped>\n",
              "    .dataframe tbody tr th:only-of-type {\n",
              "        vertical-align: middle;\n",
              "    }\n",
              "\n",
              "    .dataframe tbody tr th {\n",
              "        vertical-align: top;\n",
              "    }\n",
              "\n",
              "    .dataframe thead th {\n",
              "        text-align: right;\n",
              "    }\n",
              "</style>\n",
              "<table border=\"1\" class=\"dataframe\">\n",
              "  <thead>\n",
              "    <tr style=\"text-align: right;\">\n",
              "      <th></th>\n",
              "      <th>duration_sec</th>\n",
              "      <th>start_time</th>\n",
              "      <th>end_time</th>\n",
              "      <th>start_station_name</th>\n",
              "      <th>end_station_name</th>\n",
              "      <th>bike_id</th>\n",
              "      <th>user_type</th>\n",
              "      <th>member_birth_year</th>\n",
              "      <th>member_gender</th>\n",
              "      <th>bike_share_for_all_trip</th>\n",
              "      <th>start_month</th>\n",
              "      <th>start_day</th>\n",
              "      <th>start_hour</th>\n",
              "    </tr>\n",
              "  </thead>\n",
              "  <tbody>\n",
              "    <tr>\n",
              "      <th>0</th>\n",
              "      <td>52185</td>\n",
              "      <td>2019-02-28 17:32:10.145</td>\n",
              "      <td>2019-03-01 08:01:55.975</td>\n",
              "      <td>Montgomery St BART Station (Market St at 2nd St)</td>\n",
              "      <td>Commercial St at Montgomery St</td>\n",
              "      <td>4902</td>\n",
              "      <td>Customer</td>\n",
              "      <td>1984.0</td>\n",
              "      <td>Male</td>\n",
              "      <td>No</td>\n",
              "      <td>February</td>\n",
              "      <td>Thursday</td>\n",
              "      <td>17</td>\n",
              "    </tr>\n",
              "    <tr>\n",
              "      <th>1</th>\n",
              "      <td>42521</td>\n",
              "      <td>2019-02-28 18:53:21.789</td>\n",
              "      <td>2019-03-01 06:42:03.056</td>\n",
              "      <td>The Embarcadero at Steuart St</td>\n",
              "      <td>Berry St at 4th St</td>\n",
              "      <td>2535</td>\n",
              "      <td>Customer</td>\n",
              "      <td>NaN</td>\n",
              "      <td>NaN</td>\n",
              "      <td>No</td>\n",
              "      <td>February</td>\n",
              "      <td>Thursday</td>\n",
              "      <td>18</td>\n",
              "    </tr>\n",
              "    <tr>\n",
              "      <th>2</th>\n",
              "      <td>61854</td>\n",
              "      <td>2019-02-28 12:13:13.218</td>\n",
              "      <td>2019-03-01 05:24:08.146</td>\n",
              "      <td>Market St at Dolores St</td>\n",
              "      <td>Powell St BART Station (Market St at 4th St)</td>\n",
              "      <td>5905</td>\n",
              "      <td>Customer</td>\n",
              "      <td>1972.0</td>\n",
              "      <td>Male</td>\n",
              "      <td>No</td>\n",
              "      <td>February</td>\n",
              "      <td>Thursday</td>\n",
              "      <td>12</td>\n",
              "    </tr>\n",
              "    <tr>\n",
              "      <th>3</th>\n",
              "      <td>36490</td>\n",
              "      <td>2019-02-28 17:54:26.010</td>\n",
              "      <td>2019-03-01 04:02:36.842</td>\n",
              "      <td>Grove St at Masonic Ave</td>\n",
              "      <td>Central Ave at Fell St</td>\n",
              "      <td>6638</td>\n",
              "      <td>Subscriber</td>\n",
              "      <td>1989.0</td>\n",
              "      <td>Other</td>\n",
              "      <td>No</td>\n",
              "      <td>February</td>\n",
              "      <td>Thursday</td>\n",
              "      <td>17</td>\n",
              "    </tr>\n",
              "    <tr>\n",
              "      <th>4</th>\n",
              "      <td>1585</td>\n",
              "      <td>2019-02-28 23:54:18.549</td>\n",
              "      <td>2019-03-01 00:20:44.074</td>\n",
              "      <td>Frank H Ogawa Plaza</td>\n",
              "      <td>10th Ave at E 15th St</td>\n",
              "      <td>4898</td>\n",
              "      <td>Subscriber</td>\n",
              "      <td>1974.0</td>\n",
              "      <td>Male</td>\n",
              "      <td>Yes</td>\n",
              "      <td>February</td>\n",
              "      <td>Thursday</td>\n",
              "      <td>23</td>\n",
              "    </tr>\n",
              "  </tbody>\n",
              "</table>\n",
              "</div>\n",
              "      <button class=\"colab-df-convert\" onclick=\"convertToInteractive('df-baa82eb4-dc1b-47fc-958c-3a6681ee215a')\"\n",
              "              title=\"Convert this dataframe to an interactive table.\"\n",
              "              style=\"display:none;\">\n",
              "        \n",
              "  <svg xmlns=\"http://www.w3.org/2000/svg\" height=\"24px\"viewBox=\"0 0 24 24\"\n",
              "       width=\"24px\">\n",
              "    <path d=\"M0 0h24v24H0V0z\" fill=\"none\"/>\n",
              "    <path d=\"M18.56 5.44l.94 2.06.94-2.06 2.06-.94-2.06-.94-.94-2.06-.94 2.06-2.06.94zm-11 1L8.5 8.5l.94-2.06 2.06-.94-2.06-.94L8.5 2.5l-.94 2.06-2.06.94zm10 10l.94 2.06.94-2.06 2.06-.94-2.06-.94-.94-2.06-.94 2.06-2.06.94z\"/><path d=\"M17.41 7.96l-1.37-1.37c-.4-.4-.92-.59-1.43-.59-.52 0-1.04.2-1.43.59L10.3 9.45l-7.72 7.72c-.78.78-.78 2.05 0 2.83L4 21.41c.39.39.9.59 1.41.59.51 0 1.02-.2 1.41-.59l7.78-7.78 2.81-2.81c.8-.78.8-2.07 0-2.86zM5.41 20L4 18.59l7.72-7.72 1.47 1.35L5.41 20z\"/>\n",
              "  </svg>\n",
              "      </button>\n",
              "      \n",
              "  <style>\n",
              "    .colab-df-container {\n",
              "      display:flex;\n",
              "      flex-wrap:wrap;\n",
              "      gap: 12px;\n",
              "    }\n",
              "\n",
              "    .colab-df-convert {\n",
              "      background-color: #E8F0FE;\n",
              "      border: none;\n",
              "      border-radius: 50%;\n",
              "      cursor: pointer;\n",
              "      display: none;\n",
              "      fill: #1967D2;\n",
              "      height: 32px;\n",
              "      padding: 0 0 0 0;\n",
              "      width: 32px;\n",
              "    }\n",
              "\n",
              "    .colab-df-convert:hover {\n",
              "      background-color: #E2EBFA;\n",
              "      box-shadow: 0px 1px 2px rgba(60, 64, 67, 0.3), 0px 1px 3px 1px rgba(60, 64, 67, 0.15);\n",
              "      fill: #174EA6;\n",
              "    }\n",
              "\n",
              "    [theme=dark] .colab-df-convert {\n",
              "      background-color: #3B4455;\n",
              "      fill: #D2E3FC;\n",
              "    }\n",
              "\n",
              "    [theme=dark] .colab-df-convert:hover {\n",
              "      background-color: #434B5C;\n",
              "      box-shadow: 0px 1px 3px 1px rgba(0, 0, 0, 0.15);\n",
              "      filter: drop-shadow(0px 1px 2px rgba(0, 0, 0, 0.3));\n",
              "      fill: #FFFFFF;\n",
              "    }\n",
              "  </style>\n",
              "\n",
              "      <script>\n",
              "        const buttonEl =\n",
              "          document.querySelector('#df-baa82eb4-dc1b-47fc-958c-3a6681ee215a button.colab-df-convert');\n",
              "        buttonEl.style.display =\n",
              "          google.colab.kernel.accessAllowed ? 'block' : 'none';\n",
              "\n",
              "        async function convertToInteractive(key) {\n",
              "          const element = document.querySelector('#df-baa82eb4-dc1b-47fc-958c-3a6681ee215a');\n",
              "          const dataTable =\n",
              "            await google.colab.kernel.invokeFunction('convertToInteractive',\n",
              "                                                     [key], {});\n",
              "          if (!dataTable) return;\n",
              "\n",
              "          const docLinkHtml = 'Like what you see? Visit the ' +\n",
              "            '<a target=\"_blank\" href=https://colab.research.google.com/notebooks/data_table.ipynb>data table notebook</a>'\n",
              "            + ' to learn more about interactive tables.';\n",
              "          element.innerHTML = '';\n",
              "          dataTable['output_type'] = 'display_data';\n",
              "          await google.colab.output.renderOutput(dataTable, element);\n",
              "          const docLink = document.createElement('div');\n",
              "          docLink.innerHTML = docLinkHtml;\n",
              "          element.appendChild(docLink);\n",
              "        }\n",
              "      </script>\n",
              "    </div>\n",
              "  </div>\n",
              "  "
            ]
          },
          "metadata": {},
          "execution_count": 218
        }
      ]
    },
    {
      "cell_type": "markdown",
      "metadata": {
        "id": "8u1H7vki9bDF"
      },
      "source": [
        "* We can calculate **member age** from **member_birth_year**."
      ]
    },
    {
      "cell_type": "code",
      "execution_count": 219,
      "metadata": {
        "id": "CMAcZ-Vp9bDG"
      },
      "outputs": [],
      "source": [
        "# calculate member_age from member_birth_year and save it to a new column called \"member_age\".\n",
        "bike_trips['member_age'] = 2022 - bike_trips['member_birth_year']"
      ]
    },
    {
      "cell_type": "code",
      "source": [
        "# checking \n",
        "bike_trips.head()"
      ],
      "metadata": {
        "colab": {
          "base_uri": "https://localhost:8080/",
          "height": 392
        },
        "id": "RsvoMA98HGuC",
        "outputId": "12115355-93e2-4f21-a5bd-f7e08038bd85"
      },
      "execution_count": 220,
      "outputs": [
        {
          "output_type": "execute_result",
          "data": {
            "text/plain": [
              "   duration_sec              start_time                end_time  \\\n",
              "0         52185 2019-02-28 17:32:10.145 2019-03-01 08:01:55.975   \n",
              "1         42521 2019-02-28 18:53:21.789 2019-03-01 06:42:03.056   \n",
              "2         61854 2019-02-28 12:13:13.218 2019-03-01 05:24:08.146   \n",
              "3         36490 2019-02-28 17:54:26.010 2019-03-01 04:02:36.842   \n",
              "4          1585 2019-02-28 23:54:18.549 2019-03-01 00:20:44.074   \n",
              "\n",
              "                                 start_station_name  \\\n",
              "0  Montgomery St BART Station (Market St at 2nd St)   \n",
              "1                     The Embarcadero at Steuart St   \n",
              "2                           Market St at Dolores St   \n",
              "3                           Grove St at Masonic Ave   \n",
              "4                               Frank H Ogawa Plaza   \n",
              "\n",
              "                               end_station_name  bike_id   user_type  \\\n",
              "0                Commercial St at Montgomery St     4902    Customer   \n",
              "1                            Berry St at 4th St     2535    Customer   \n",
              "2  Powell St BART Station (Market St at 4th St)     5905    Customer   \n",
              "3                        Central Ave at Fell St     6638  Subscriber   \n",
              "4                         10th Ave at E 15th St     4898  Subscriber   \n",
              "\n",
              "   member_birth_year member_gender bike_share_for_all_trip start_month  \\\n",
              "0             1984.0          Male                      No    February   \n",
              "1                NaN           NaN                      No    February   \n",
              "2             1972.0          Male                      No    February   \n",
              "3             1989.0         Other                      No    February   \n",
              "4             1974.0          Male                     Yes    February   \n",
              "\n",
              "  start_day start_hour  member_age  \n",
              "0  Thursday         17        38.0  \n",
              "1  Thursday         18         NaN  \n",
              "2  Thursday         12        50.0  \n",
              "3  Thursday         17        33.0  \n",
              "4  Thursday         23        48.0  "
            ],
            "text/html": [
              "\n",
              "  <div id=\"df-4475331c-1e9a-4b4b-bf16-33e0d3044308\">\n",
              "    <div class=\"colab-df-container\">\n",
              "      <div>\n",
              "<style scoped>\n",
              "    .dataframe tbody tr th:only-of-type {\n",
              "        vertical-align: middle;\n",
              "    }\n",
              "\n",
              "    .dataframe tbody tr th {\n",
              "        vertical-align: top;\n",
              "    }\n",
              "\n",
              "    .dataframe thead th {\n",
              "        text-align: right;\n",
              "    }\n",
              "</style>\n",
              "<table border=\"1\" class=\"dataframe\">\n",
              "  <thead>\n",
              "    <tr style=\"text-align: right;\">\n",
              "      <th></th>\n",
              "      <th>duration_sec</th>\n",
              "      <th>start_time</th>\n",
              "      <th>end_time</th>\n",
              "      <th>start_station_name</th>\n",
              "      <th>end_station_name</th>\n",
              "      <th>bike_id</th>\n",
              "      <th>user_type</th>\n",
              "      <th>member_birth_year</th>\n",
              "      <th>member_gender</th>\n",
              "      <th>bike_share_for_all_trip</th>\n",
              "      <th>start_month</th>\n",
              "      <th>start_day</th>\n",
              "      <th>start_hour</th>\n",
              "      <th>member_age</th>\n",
              "    </tr>\n",
              "  </thead>\n",
              "  <tbody>\n",
              "    <tr>\n",
              "      <th>0</th>\n",
              "      <td>52185</td>\n",
              "      <td>2019-02-28 17:32:10.145</td>\n",
              "      <td>2019-03-01 08:01:55.975</td>\n",
              "      <td>Montgomery St BART Station (Market St at 2nd St)</td>\n",
              "      <td>Commercial St at Montgomery St</td>\n",
              "      <td>4902</td>\n",
              "      <td>Customer</td>\n",
              "      <td>1984.0</td>\n",
              "      <td>Male</td>\n",
              "      <td>No</td>\n",
              "      <td>February</td>\n",
              "      <td>Thursday</td>\n",
              "      <td>17</td>\n",
              "      <td>38.0</td>\n",
              "    </tr>\n",
              "    <tr>\n",
              "      <th>1</th>\n",
              "      <td>42521</td>\n",
              "      <td>2019-02-28 18:53:21.789</td>\n",
              "      <td>2019-03-01 06:42:03.056</td>\n",
              "      <td>The Embarcadero at Steuart St</td>\n",
              "      <td>Berry St at 4th St</td>\n",
              "      <td>2535</td>\n",
              "      <td>Customer</td>\n",
              "      <td>NaN</td>\n",
              "      <td>NaN</td>\n",
              "      <td>No</td>\n",
              "      <td>February</td>\n",
              "      <td>Thursday</td>\n",
              "      <td>18</td>\n",
              "      <td>NaN</td>\n",
              "    </tr>\n",
              "    <tr>\n",
              "      <th>2</th>\n",
              "      <td>61854</td>\n",
              "      <td>2019-02-28 12:13:13.218</td>\n",
              "      <td>2019-03-01 05:24:08.146</td>\n",
              "      <td>Market St at Dolores St</td>\n",
              "      <td>Powell St BART Station (Market St at 4th St)</td>\n",
              "      <td>5905</td>\n",
              "      <td>Customer</td>\n",
              "      <td>1972.0</td>\n",
              "      <td>Male</td>\n",
              "      <td>No</td>\n",
              "      <td>February</td>\n",
              "      <td>Thursday</td>\n",
              "      <td>12</td>\n",
              "      <td>50.0</td>\n",
              "    </tr>\n",
              "    <tr>\n",
              "      <th>3</th>\n",
              "      <td>36490</td>\n",
              "      <td>2019-02-28 17:54:26.010</td>\n",
              "      <td>2019-03-01 04:02:36.842</td>\n",
              "      <td>Grove St at Masonic Ave</td>\n",
              "      <td>Central Ave at Fell St</td>\n",
              "      <td>6638</td>\n",
              "      <td>Subscriber</td>\n",
              "      <td>1989.0</td>\n",
              "      <td>Other</td>\n",
              "      <td>No</td>\n",
              "      <td>February</td>\n",
              "      <td>Thursday</td>\n",
              "      <td>17</td>\n",
              "      <td>33.0</td>\n",
              "    </tr>\n",
              "    <tr>\n",
              "      <th>4</th>\n",
              "      <td>1585</td>\n",
              "      <td>2019-02-28 23:54:18.549</td>\n",
              "      <td>2019-03-01 00:20:44.074</td>\n",
              "      <td>Frank H Ogawa Plaza</td>\n",
              "      <td>10th Ave at E 15th St</td>\n",
              "      <td>4898</td>\n",
              "      <td>Subscriber</td>\n",
              "      <td>1974.0</td>\n",
              "      <td>Male</td>\n",
              "      <td>Yes</td>\n",
              "      <td>February</td>\n",
              "      <td>Thursday</td>\n",
              "      <td>23</td>\n",
              "      <td>48.0</td>\n",
              "    </tr>\n",
              "  </tbody>\n",
              "</table>\n",
              "</div>\n",
              "      <button class=\"colab-df-convert\" onclick=\"convertToInteractive('df-4475331c-1e9a-4b4b-bf16-33e0d3044308')\"\n",
              "              title=\"Convert this dataframe to an interactive table.\"\n",
              "              style=\"display:none;\">\n",
              "        \n",
              "  <svg xmlns=\"http://www.w3.org/2000/svg\" height=\"24px\"viewBox=\"0 0 24 24\"\n",
              "       width=\"24px\">\n",
              "    <path d=\"M0 0h24v24H0V0z\" fill=\"none\"/>\n",
              "    <path d=\"M18.56 5.44l.94 2.06.94-2.06 2.06-.94-2.06-.94-.94-2.06-.94 2.06-2.06.94zm-11 1L8.5 8.5l.94-2.06 2.06-.94-2.06-.94L8.5 2.5l-.94 2.06-2.06.94zm10 10l.94 2.06.94-2.06 2.06-.94-2.06-.94-.94-2.06-.94 2.06-2.06.94z\"/><path d=\"M17.41 7.96l-1.37-1.37c-.4-.4-.92-.59-1.43-.59-.52 0-1.04.2-1.43.59L10.3 9.45l-7.72 7.72c-.78.78-.78 2.05 0 2.83L4 21.41c.39.39.9.59 1.41.59.51 0 1.02-.2 1.41-.59l7.78-7.78 2.81-2.81c.8-.78.8-2.07 0-2.86zM5.41 20L4 18.59l7.72-7.72 1.47 1.35L5.41 20z\"/>\n",
              "  </svg>\n",
              "      </button>\n",
              "      \n",
              "  <style>\n",
              "    .colab-df-container {\n",
              "      display:flex;\n",
              "      flex-wrap:wrap;\n",
              "      gap: 12px;\n",
              "    }\n",
              "\n",
              "    .colab-df-convert {\n",
              "      background-color: #E8F0FE;\n",
              "      border: none;\n",
              "      border-radius: 50%;\n",
              "      cursor: pointer;\n",
              "      display: none;\n",
              "      fill: #1967D2;\n",
              "      height: 32px;\n",
              "      padding: 0 0 0 0;\n",
              "      width: 32px;\n",
              "    }\n",
              "\n",
              "    .colab-df-convert:hover {\n",
              "      background-color: #E2EBFA;\n",
              "      box-shadow: 0px 1px 2px rgba(60, 64, 67, 0.3), 0px 1px 3px 1px rgba(60, 64, 67, 0.15);\n",
              "      fill: #174EA6;\n",
              "    }\n",
              "\n",
              "    [theme=dark] .colab-df-convert {\n",
              "      background-color: #3B4455;\n",
              "      fill: #D2E3FC;\n",
              "    }\n",
              "\n",
              "    [theme=dark] .colab-df-convert:hover {\n",
              "      background-color: #434B5C;\n",
              "      box-shadow: 0px 1px 3px 1px rgba(0, 0, 0, 0.15);\n",
              "      filter: drop-shadow(0px 1px 2px rgba(0, 0, 0, 0.3));\n",
              "      fill: #FFFFFF;\n",
              "    }\n",
              "  </style>\n",
              "\n",
              "      <script>\n",
              "        const buttonEl =\n",
              "          document.querySelector('#df-4475331c-1e9a-4b4b-bf16-33e0d3044308 button.colab-df-convert');\n",
              "        buttonEl.style.display =\n",
              "          google.colab.kernel.accessAllowed ? 'block' : 'none';\n",
              "\n",
              "        async function convertToInteractive(key) {\n",
              "          const element = document.querySelector('#df-4475331c-1e9a-4b4b-bf16-33e0d3044308');\n",
              "          const dataTable =\n",
              "            await google.colab.kernel.invokeFunction('convertToInteractive',\n",
              "                                                     [key], {});\n",
              "          if (!dataTable) return;\n",
              "\n",
              "          const docLinkHtml = 'Like what you see? Visit the ' +\n",
              "            '<a target=\"_blank\" href=https://colab.research.google.com/notebooks/data_table.ipynb>data table notebook</a>'\n",
              "            + ' to learn more about interactive tables.';\n",
              "          element.innerHTML = '';\n",
              "          dataTable['output_type'] = 'display_data';\n",
              "          await google.colab.output.renderOutput(dataTable, element);\n",
              "          const docLink = document.createElement('div');\n",
              "          docLink.innerHTML = docLinkHtml;\n",
              "          element.appendChild(docLink);\n",
              "        }\n",
              "      </script>\n",
              "    </div>\n",
              "  </div>\n",
              "  "
            ]
          },
          "metadata": {},
          "execution_count": 220
        }
      ]
    },
    {
      "cell_type": "markdown",
      "metadata": {
        "id": "_Wf4vPFy9bDG"
      },
      "source": [
        "> Check the new changes"
      ]
    },
    {
      "cell_type": "code",
      "execution_count": 221,
      "metadata": {
        "colab": {
          "base_uri": "https://localhost:8080/"
        },
        "id": "ungYWWKH9bDG",
        "outputId": "23a7f056-db03-4dda-ab25-302f5b61f919"
      },
      "outputs": [
        {
          "output_type": "execute_result",
          "data": {
            "text/plain": [
              "0         38.0\n",
              "1          NaN\n",
              "2         50.0\n",
              "3         33.0\n",
              "4         48.0\n",
              "          ... \n",
              "183407    26.0\n",
              "183408    38.0\n",
              "183409    32.0\n",
              "183410    34.0\n",
              "183411    33.0\n",
              "Name: member_age, Length: 183412, dtype: float64"
            ]
          },
          "metadata": {},
          "execution_count": 221
        }
      ],
      "source": [
        "# checking\n",
        "bike_trips['member_age']"
      ]
    },
    {
      "cell_type": "markdown",
      "source": [
        "* After we calculated member age we don't need **'member_birth_year'** anymore so we will delete it\n"
      ],
      "metadata": {
        "id": "1bMgc977mnhA"
      }
    },
    {
      "cell_type": "code",
      "source": [
        "# Delete member_birth_year column.\n",
        "bike_trips.drop(['member_birth_year'], axis = 1, inplace = True)"
      ],
      "metadata": {
        "id": "Cn3-7xbpmkzt"
      },
      "execution_count": 222,
      "outputs": []
    },
    {
      "cell_type": "markdown",
      "metadata": {
        "id": "LFYphxnF9bDG"
      },
      "source": [
        "* Note that the **member age** column has a float datatype, but we cannot fix it now since there are some null values.\n",
        "\n",
        "> **We should handle with null values first**"
      ]
    },
    {
      "cell_type": "markdown",
      "metadata": {
        "id": "KBu-_Ki79bDG"
      },
      "source": [
        " ### 3. Handle Missing Data\n"
      ]
    },
    {
      "cell_type": "markdown",
      "metadata": {
        "id": "GAWiLQgG9bDH"
      },
      "source": [
        "> **First**, let's see which columns contain null values"
      ]
    },
    {
      "cell_type": "code",
      "execution_count": 223,
      "metadata": {
        "colab": {
          "base_uri": "https://localhost:8080/"
        },
        "id": "0e89QjKE9bDH",
        "outputId": "d2bdc81b-f901-4df9-c79e-dcae30f29dfc"
      },
      "outputs": [
        {
          "output_type": "execute_result",
          "data": {
            "text/plain": [
              "duration_sec                  0\n",
              "start_time                    0\n",
              "end_time                      0\n",
              "start_station_name          197\n",
              "end_station_name            197\n",
              "bike_id                       0\n",
              "user_type                     0\n",
              "member_gender              8265\n",
              "bike_share_for_all_trip       0\n",
              "start_month                   0\n",
              "start_day                     0\n",
              "start_hour                    0\n",
              "member_age                 8265\n",
              "dtype: int64"
            ]
          },
          "metadata": {},
          "execution_count": 223
        }
      ],
      "source": [
        "bike_trips.isnull().sum()"
      ]
    },
    {
      "cell_type": "markdown",
      "metadata": {
        "id": "f4ImFbSu9bDH"
      },
      "source": [
        "* As we can see, there are 4 columns with null values:\n",
        "1. start_station_name\n",
        "2. end_station_name\n",
        "3. member_gender\n",
        "4. member_age\n",
        "\n",
        "The handling of these missing values varies according to their data type.\n",
        "\n",
        "---\n",
        "* We will first start by dealing with the **member age** column\n",
        "\n",
        "> We can fill in the missing values in the **member age** column with the mean age of all members"
      ]
    },
    {
      "cell_type": "code",
      "execution_count": 224,
      "metadata": {
        "id": "ZuYbK2CD9bDH"
      },
      "outputs": [],
      "source": [
        "# fill the missing values with the mean of ages ( mean of column values)\n",
        "bike_trips['member_age'] = bike_trips['member_age'].fillna(bike_trips['member_age'].mean())"
      ]
    },
    {
      "cell_type": "markdown",
      "metadata": {
        "id": "W1ftkBZF9bDH"
      },
      "source": [
        "> Check the new changes in \"**member_age**\" column"
      ]
    },
    {
      "cell_type": "code",
      "execution_count": 225,
      "metadata": {
        "colab": {
          "base_uri": "https://localhost:8080/"
        },
        "id": "-Nxuvbsu9bDI",
        "outputId": "cf90e362-98dd-4384-9647-9b4d44bd5766"
      },
      "outputs": [
        {
          "output_type": "execute_result",
          "data": {
            "text/plain": [
              "duration_sec                  0\n",
              "start_time                    0\n",
              "end_time                      0\n",
              "start_station_name          197\n",
              "end_station_name            197\n",
              "bike_id                       0\n",
              "user_type                     0\n",
              "member_gender              8265\n",
              "bike_share_for_all_trip       0\n",
              "start_month                   0\n",
              "start_day                     0\n",
              "start_hour                    0\n",
              "member_age                    0\n",
              "dtype: int64"
            ]
          },
          "metadata": {},
          "execution_count": 225
        }
      ],
      "source": [
        "# checking\n",
        "bike_trips.isnull().sum()"
      ]
    },
    {
      "cell_type": "markdown",
      "metadata": {
        "id": "c3BRXde29bDI"
      },
      "source": [
        ">Now after we handel null values in the 'member age column':\n",
        ">*  We can convert **'member_age'** column from **Float64** to **Int**"
      ]
    },
    {
      "cell_type": "code",
      "execution_count": 226,
      "metadata": {
        "id": "UmOOp7hL9bDI"
      },
      "outputs": [],
      "source": [
        "# convert float to integer data type( ages can't be a float)\n",
        "bike_trips['member_age'] = bike_trips['member_age'].astype(int)"
      ]
    },
    {
      "cell_type": "markdown",
      "metadata": {
        "id": "eR5LxW3P9bDI"
      },
      "source": [
        "We have solved the problem with null values in the **member age** column, but we still have 3 columns with null values. \n",
        "\n",
        "\n",
        ">*since their values will not affect the analysis that much we can just drop them*"
      ]
    },
    {
      "cell_type": "markdown",
      "metadata": {
        "id": "LXe6S_yY9bDJ"
      },
      "source": [
        "> We can **Delete** all  columns with null values from the dataset"
      ]
    },
    {
      "cell_type": "code",
      "execution_count": 227,
      "metadata": {
        "id": "86wK6GL79bDJ"
      },
      "outputs": [],
      "source": [
        "# drop all missing values\n",
        "bike_trips.dropna(axis = 0, inplace = True)"
      ]
    },
    {
      "cell_type": "markdown",
      "metadata": {
        "id": "M3DYRwCA9bDJ"
      },
      "source": [
        "> Check if there is any null values now"
      ]
    },
    {
      "cell_type": "code",
      "execution_count": 228,
      "metadata": {
        "colab": {
          "base_uri": "https://localhost:8080/"
        },
        "id": "ZAGWmthr9bDJ",
        "outputId": "22390b47-40a0-41a9-bffa-5334cd58c62a"
      },
      "outputs": [
        {
          "output_type": "execute_result",
          "data": {
            "text/plain": [
              "duration_sec               0\n",
              "start_time                 0\n",
              "end_time                   0\n",
              "start_station_name         0\n",
              "end_station_name           0\n",
              "bike_id                    0\n",
              "user_type                  0\n",
              "member_gender              0\n",
              "bike_share_for_all_trip    0\n",
              "start_month                0\n",
              "start_day                  0\n",
              "start_hour                 0\n",
              "member_age                 0\n",
              "dtype: int64"
            ]
          },
          "metadata": {},
          "execution_count": 228
        }
      ],
      "source": [
        "# checking\n",
        "bike_trips.isnull().sum()"
      ]
    },
    {
      "cell_type": "markdown",
      "metadata": {
        "id": "IO4PnyXA9bDK"
      },
      "source": [
        "### STEP 4: Exploratory Data Analysis & Visualizations "
      ]
    },
    {
      "cell_type": "markdown",
      "metadata": {
        "id": "1XzpGwCm9bDK"
      },
      "source": [
        "###  Question 1 : What are the most common days to use a bike?\n"
      ]
    },
    {
      "cell_type": "code",
      "execution_count": 235,
      "metadata": {
        "colab": {
          "base_uri": "https://localhost:8080/",
          "height": 458
        },
        "id": "4dSkG_2P9bDK",
        "outputId": "8240f363-7268-4655-9c82-e350fd3ae203"
      },
      "outputs": [
        {
          "output_type": "display_data",
          "data": {
            "text/plain": [
              "<Figure size 720x432 with 1 Axes>"
            ],
            "image/png": "[encoded data removed]"
          },
          "metadata": {}
        }
      ],
      "source": [
        "plt.figure(figsize=(10,6));\n",
        "\n",
        "\n",
        "vis_1 = sns.countplot(data = bike_trips, x = 'start_day', color = 'moccasin', saturation=0.3)\n",
        "vis_1.set_xlabel(\"Weekdays\",fontsize=16)\n",
        "vis_1.set_ylabel(\"Count\",fontsize=16)\n",
        "vis_1.tick_params(labelsize=12)\n",
        "plt.title('The most common days to use a bike',fontsize=24, pad = 40)\n",
        "\n",
        "plt.show();"
      ]
    },
    {
      "cell_type": "markdown",
      "source": [
        ">From the above bar chart, we can notice that *Thursday* is the most popular to use bikes followed by *Tuesday*. while *Sunday and Saturday* are the least popular days.\n"
      ],
      "metadata": {
        "id": "yC0eB6RqSzSr"
      }
    },
    {
      "cell_type": "markdown",
      "metadata": {
        "id": "tTHwqeLq9bDK"
      },
      "source": [
        "###  Question 2 : What are the most common hours to use a bike?"
      ]
    },
    {
      "cell_type": "code",
      "execution_count": 236,
      "metadata": {
        "id": "0s6aS0YH9bDL",
        "outputId": "cc20006e-9860-4100-b188-ae87897bc1fd",
        "colab": {
          "base_uri": "https://localhost:8080/",
          "height": 448
        }
      },
      "outputs": [
        {
          "output_type": "display_data",
          "data": {
            "text/plain": [
              "<Figure size 720x432 with 1 Axes>"
            ],
            "image/png": "[encoded data removed]"
          },
          "metadata": {}
        }
      ],
      "source": [
        "plt.figure(figsize=(10,6));\n",
        "\n",
        "vis_2 = sns.countplot(data = bike_trips, x = 'start_hour', color='#69b3a2', saturation=0.6);\n",
        "vis_2.set_xlabel(\"Hour\",fontsize=16)\n",
        "vis_2.set_ylabel(\"Count\",fontsize=16)\n",
        "vis_2.tick_params(labelsize=12)\n",
        "plt.title('The most common hours to use a bike',fontsize=24, pad = 30)\n",
        "\n",
        "plt.show();\n"
      ]
    },
    {
      "cell_type": "markdown",
      "source": [
        "> The first five hours (12 a.m - 4 a.m) of the day got the least count of bike usage. But 5 p.m and 8 a.m are the most common hours to use bikes."
      ],
      "metadata": {
        "id": "0Zm3lfnYV9_B"
      }
    },
    {
      "cell_type": "markdown",
      "metadata": {
        "id": "Ikvorooe9bDL"
      },
      "source": [
        "###  Question 3 : What are the common ages and genders of bike users?\n",
        "\n"
      ]
    },
    {
      "cell_type": "code",
      "execution_count": 231,
      "metadata": {
        "id": "A2r8s7uf9bDL",
        "outputId": "878876a5-0a5e-4d99-a996-016ed6b022a9",
        "colab": {
          "base_uri": "https://localhost:8080/",
          "height": 445
        }
      },
      "outputs": [
        {
          "output_type": "display_data",
          "data": {
            "text/plain": [
              "<Figure size 720x432 with 1 Axes>"
            ],
            "image/png": "[encoded data removed]"
          },
          "metadata": {}
        }
      ],
      "source": [
        "plt.figure(figsize=(10,6));\n",
        "# plt.hist(data = bike_trips, x = 'member_age', color = '#ded6be');\n",
        "colors= ['moccasin','darkseagreen',  'rosybrown']\n",
        "sns.histplot(data=bike_trips, x=\"member_age\", hue=\"member_gender\", multiple=\"stack\", palette=colors , bins=40,  kde=True)\n",
        "\n",
        "\n",
        "plt.title('The Common Ages of Bike Users',fontsize=24, pad = 30)\n",
        "plt.xlabel('Age',fontsize=16);\n",
        "plt.ylabel('Count',fontsize=16);"
      ]
    },
    {
      "cell_type": "markdown",
      "source": [
        "> The common ages of bike users range from 20 to 45 years old.\n"
      ],
      "metadata": {
        "id": "ViPxgTB9Xl5H"
      }
    },
    {
      "cell_type": "markdown",
      "source": [
        "###  Question 4 : What are the common genders of subscribers users?\n"
      ],
      "metadata": {
        "id": "F-klE0Q9OGFj"
      }
    },
    {
      "cell_type": "code",
      "source": [
        "subscriber_pop_chart = bike_trips.query(\"user_type == 'Subscriber' \")['member_gender'].value_counts()\n",
        "labels_list=['Male','Female','Other']\n",
        "\n",
        "colors=['darkseagreen', 'moccasin', 'rosybrown', 'lightyellow']\n",
        "\n",
        "\n",
        "plt.pie(subscriber_pop_chart,colors= colors ,shadow=True,pctdistance=1.2, \n",
        "        autopct='%1.1f%%',textprops={'fontsize': 14}, radius =1.5)\n",
        "\n",
        "# to  change pie chart to donut chart \n",
        "centre_circle = plt.Circle((0,0),1.0,fc='white')\n",
        "fig = plt.gcf()\n",
        "fig.gca().add_artist(centre_circle)\n",
        "\n",
        "\n",
        "plt.legend(labels=labels_list, loc='upper center', \n",
        "           bbox_to_anchor=(1.6, 1.04), ncol=1, fontsize=12)\n",
        "plt.title('Common Subscriber Genders',fontsize=24, pad=60);\n"
      ],
      "metadata": {
        "colab": {
          "base_uri": "https://localhost:8080/",
          "height": 351
        },
        "id": "i6HNQiSgLkqU",
        "outputId": "cd5c5fac-72c3-4124-8242-fd4c2e7c5a90"
      },
      "execution_count": 232,
      "outputs": [
        {
          "output_type": "display_data",
          "data": {
            "text/plain": [
              "<Figure size 432x288 with 1 Axes>"
            ],
            "image/png": "[encoded data removed]"
          },
          "metadata": {}
        }
      ]
    },
    {
      "cell_type": "markdown",
      "source": [
        "> ***Male users*** are the most common bike' subscribers.\n"
      ],
      "metadata": {
        "id": "pLR7IFi_Pdhu"
      }
    },
    {
      "cell_type": "markdown",
      "source": [
        "###  Question 5 : What are the subscribers' Most popular Stations?\n"
      ],
      "metadata": {
        "id": "VQBNkQvJsIF6"
      }
    },
    {
      "cell_type": "code",
      "source": [
        "common_station= bike_trips.query(\"user_type == 'Subscriber' \").start_station_name.value_counts()\n",
        "\n",
        "df_val_counts = pd.DataFrame(common_station[:5]) # take only the most 5 popular station\n",
        "df_val_counts = df_val_counts.reset_index()\n",
        "df_val_counts.columns = ['station_name', 'counts'] # change column names\n",
        "labels_list = list(df_val_counts['station_name']) # to get the station name list\n",
        "\n",
        "\n",
        "colors=['darkseagreen', 'bisque', 'rosybrown', 'tan', 'lightsteelblue']\n",
        "\n",
        "plt.pie(common_station[:5],shadow=True,pctdistance=1.2, \n",
        "        autopct='%1.1f%%',textprops={'fontsize': 14}, radius =1.5, colors=colors)\n",
        "\n",
        "\n",
        "\n",
        "plt.legend(labels=labels_list, loc='upper center', \n",
        "           bbox_to_anchor=(2.3, 1.0), ncol=1, fontsize=12)\n",
        "plt.title(\"Subscriber's Popular Stations\",fontsize=24, pad=100);\n"
      ],
      "metadata": {
        "colab": {
          "base_uri": "https://localhost:8080/",
          "height": 422
        },
        "id": "DExW7swjZeYA",
        "outputId": "856fe262-88d0-4c5e-8ada-6c94d8685693"
      },
      "execution_count": 233,
      "outputs": [
        {
          "output_type": "display_data",
          "data": {
            "text/plain": [
              "<Figure size 432x288 with 1 Axes>"
            ],
            "image/png": "[encoded data removed]"
          },
          "metadata": {}
        }
      ]
    },
    {
      "cell_type": "markdown",
      "source": [
        "> ***Market St at 10th St***   and ***San Francisco Caltrain Station 2  (Townsend St at 4th St)*** Stations are the Most popular Stations to subscribers."
      ],
      "metadata": {
        "id": "6WneVfVAs6Mq"
      }
    },
    {
      "cell_type": "markdown",
      "source": [
        "----\n",
        "\n",
        "\n",
        "### Limitations\n",
        "The dataset contains missing values, unnecessary columns, and duplicated rows. In addition, to structural problems such as wrong columns data type.\n",
        "\n",
        "> <font color='blue'>*So I had to clean the dataset before start answering my research questions.*</font>\n",
        "\n"
      ],
      "metadata": {
        "id": "BkgM6QYIZxui"
      }
    },
    {
      "cell_type": "markdown",
      "source": [
        "###  Conclusions\n",
        "\n",
        ">1. Thursday is the most popular to use bikes.\n",
        ">2. Sunday and Saturday are the least popular days.\n",
        ">3. 5 p.m and 8 a.m are the most common hours to use bikes.\n",
        ">4. The common ages of bike users range from 20 to 45 years old.\n",
        ">5. Most of the subscribers are Male users.\n",
        ">6. ***Market St at 10th St***   is the Most popular Station to subscribers."
      ],
      "metadata": {
        "id": "gyyCEmKBZ6zE"
      }
    }
  ],
  "metadata": {
    "kernelspec": {
      "display_name": "Python 3",
      "language": "python",
      "name": "python3"
    },
    "language_info": {
      "codemirror_mode": {
        "name": "ipython",
        "version": 3
      },
      "file_extension": ".py",
      "mimetype": "text/x-python",
      "name": "python",
      "nbconvert_exporter": "python",
      "pygments_lexer": "ipython3",
      "version": "3.7.4"
    },
    "colab": {
      "name": "Analyze the bike trips dataset.ipynb",
      "provenance": [],
      "collapsed_sections": []
    }
  },
  "nbformat": 4,
  "nbformat_minor": 0
}